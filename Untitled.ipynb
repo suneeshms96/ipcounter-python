{
 "cells": [
  {
   "cell_type": "code",
   "execution_count": 3,
   "metadata": {},
   "outputs": [
    {
     "name": "stdout",
     "output_type": "stream",
     "text": [
      "148.251.50.49        1929\n",
      "84.112.161.41        709\n",
      "52.22.118.215        734\n",
      "205.167.170.15       896\n"
     ]
    },
    {
     "data": {
      "image/png": "[encoded data removed]",
      "text/plain": [
       "<Figure size 432x288 with 1 Axes>"
      ]
     },
     "metadata": {
      "needs_background": "light"
     },
     "output_type": "display_data"
    }
   ],
   "source": [
    "import matplotlib.pyplot as plt\n",
    "\n",
    "logfile = 'access.log'\n",
    "hit_count = 500\n",
    "\n",
    "with open (logfile) as logobj:\n",
    "    \n",
    "    hit_counter = {}\n",
    "    \n",
    "    for line in logobj:\n",
    "        \n",
    "        ip = line.split()[0]\n",
    "        \n",
    "        if ip not in hit_counter:\n",
    "            \n",
    "            hit_counter[ip] = 1\n",
    "            \n",
    "        else:\n",
    "        \n",
    "            hit_counter[ip] = hit_counter[ip] + 1\n",
    "        \n",
    "for ip in hit_counter:\n",
    "    \n",
    "    hit = hit_counter[ip]\n",
    "    \n",
    "    ips = ip\n",
    "    \n",
    "    hits = hit\n",
    "    \n",
    "    if hit >= hit_count:\n",
    "        \n",
    "        print('{:20} {}'.format(ip,hit))\n",
    "        \n",
    "        plt.bar(ips, hits)\n"
   ]
  },
  {
   "cell_type": "code",
   "execution_count": null,
   "metadata": {},
   "outputs": [],
   "source": []
  }
 ],
 "metadata": {
  "kernelspec": {
   "display_name": "Python 3",
   "language": "python",
   "name": "python3"
  },
  "language_info": {
   "codemirror_mode": {
    "name": "ipython",
    "version": 3
   },
   "file_extension": ".py",
   "mimetype": "text/x-python",
   "name": "python",
   "nbconvert_exporter": "python",
   "pygments_lexer": "ipython3",
   "version": "3.6.9"
  }
 },
 "nbformat": 4,
 "nbformat_minor": 4
}
