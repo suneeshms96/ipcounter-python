{
 "cells": [
  {
   "cell_type": "code",
   "execution_count": null,
   "metadata": {},
   "outputs": [],
   "source": [
    "import matplotlib.pyplot as plt\n",
    "\n",
    "logfile = 'access.log'\n",
    "hit_count = 500\n",
    "\n",
    "with open (logfile) as logobj:\n",
    "    \n",
    "    hit_counter = {}\n",
    "    \n",
    "    for line in logobj:\n",
    "        \n",
    "        ip = line.split()[0]\n",
    "        \n",
    "        if ip not in hit_counter:\n",
    "            \n",
    "            hit_counter[ip] = 1\n",
    "            \n",
    "        else\n",
    "        \n",
    "            hit_counter[ip] = hit_counter[ip] + 1\n",
    "        \n",
    "for ip in hit_counter:\n",
    "    \n",
    "    hit = \n"
   ]
  }
 ],
 "metadata": {
  "kernelspec": {
   "display_name": "Python 3",
   "language": "python",
   "name": "python3"
  },
  "language_info": {
   "codemirror_mode": {
    "name": "ipython",
    "version": 3
   },
   "file_extension": ".py",
   "mimetype": "text/x-python",
   "name": "python",
   "nbconvert_exporter": "python",
   "pygments_lexer": "ipython3",
   "version": "3.6.9"
  }
 },
 "nbformat": 4,
 "nbformat_minor": 4
}
